{
 "cells": [
  {
   "cell_type": "code",
   "execution_count": 34,
   "id": "41f95aa3",
   "metadata": {},
   "outputs": [],
   "source": [
    "from faker import Faker\n",
    "from datetime import date\n",
    "\n",
    "\n",
    "fake = Faker('pt_BR')\n",
    "fake.seed_instance(0)\n",
    "\n",
    "\n",
    "nome = fake.name_nonbinary()\n",
    "\n",
    "nome_pai = fake.name_male()\n",
    "\n",
    "nome_mae = fake.name_female()\n",
    "\n",
    "sigla,estado = fake.estado()\n",
    "\n",
    "cpf = fake.bothify(text='###.###.###-##')\n",
    "\n",
    "RG = sigla+'-'+fake.bothify(text='##.###.###')\n",
    "\n",
    "dt_nascimento = fake.date_of_birth(maximum_age=100)\n",
    "\n",
    "dt_expedicao = fake.date_between_dates(date_start = dt_nascimento, date_end=date.today())\n",
    "\n",
    "dt_nascimento = dt_nascimento.strftime('%d/%m/%Y')\n",
    "\n",
    "dt_expedicao = dt_expedicao.strftime('%d/%m/%Y')\n",
    "\n",
    "naturalidade = estado+'-'+sigla"
   ]
  },
  {
   "cell_type": "code",
   "execution_count": 5,
   "id": "aa784229",
   "metadata": {},
   "outputs": [
    {
     "data": {
      "text/plain": [
       "('PR', 'Paraná')"
      ]
     },
     "execution_count": 5,
     "metadata": {},
     "output_type": "execute_result"
    }
   ],
   "source": [
    "sigla,estado"
   ]
  },
  {
   "cell_type": "code",
   "execution_count": 6,
   "id": "21254a03",
   "metadata": {},
   "outputs": [
    {
     "data": {
      "text/plain": [
       "('Sophie Peixoto', 'Francisco Silva', 'Juliana Jesus')"
      ]
     },
     "execution_count": 6,
     "metadata": {},
     "output_type": "execute_result"
    }
   ],
   "source": [
    "nome,nome_pai,nome_mae"
   ]
  },
  {
   "cell_type": "code",
   "execution_count": 9,
   "id": "e251f411",
   "metadata": {},
   "outputs": [
    {
     "data": {
      "text/plain": [
       "('593.824.219-48', 'PR-92.411.578')"
      ]
     },
     "execution_count": 9,
     "metadata": {},
     "output_type": "execute_result"
    }
   ],
   "source": [
    "cpf,RG"
   ]
  },
  {
   "cell_type": "code",
   "execution_count": 11,
   "id": "ce9f5595",
   "metadata": {},
   "outputs": [
    {
     "data": {
      "text/plain": [
       "(datetime.date(1934, 9, 18), datetime.date(1982, 11, 12))"
      ]
     },
     "execution_count": 11,
     "metadata": {},
     "output_type": "execute_result"
    }
   ],
   "source": [
    "dt_nascimento,dt_expedicao"
   ]
  },
  {
   "cell_type": "code",
   "execution_count": 12,
   "id": "469ab1d7",
   "metadata": {},
   "outputs": [
    {
     "data": {
      "text/plain": [
       "(datetime.date(1934, 9, 18), datetime.date(1982, 11, 12))"
      ]
     },
     "execution_count": 12,
     "metadata": {},
     "output_type": "execute_result"
    }
   ],
   "source": [
    "dt_nascimento,dt_expedicao"
   ]
  },
  {
   "cell_type": "code",
   "execution_count": 89,
   "id": "19d54729",
   "metadata": {},
   "outputs": [],
   "source": [
    "import cv2 as cv\n",
    "from unidecode import unidecode"
   ]
  },
  {
   "cell_type": "code",
   "execution_count": 90,
   "id": "72128751",
   "metadata": {},
   "outputs": [],
   "source": [
    "img_rg = cv.imread('Input\\RG2.jpg')"
   ]
  },
  {
   "cell_type": "code",
   "execution_count": 91,
   "id": "2ce75eb2",
   "metadata": {},
   "outputs": [],
   "source": [
    "img_rg = cv.putText(img_rg, RG, (250,115), cv.FONT_HERSHEY_DUPLEX, 1, (0,0,0), 2, cv.LINE_AA)\n",
    "img_rg = cv.putText(img_rg, dt_expedicao, (800,115), cv.FONT_HERSHEY_DUPLEX, 1, (0,0,0), 2, cv.LINE_AA)\n",
    "img_rg = cv.putText(img_rg, nome, (250,170), cv.FONT_HERSHEY_DUPLEX, 1.5, (0,0,0), 2, cv.LINE_AA)\n",
    "img_rg = cv.putText(img_rg, nome_mae, (250,270), cv.FONT_HERSHEY_DUPLEX, 1, (0,0,0), 2, cv.LINE_AA)\n",
    "img_rg = cv.putText(img_rg, nome_pai, (250,330), cv.FONT_HERSHEY_DUPLEX, 1.5, (0,0,0), 2, cv.LINE_AA)\n",
    "img_rg = cv.putText(img_rg, unidecode(naturalidade), (250,405), cv.FONT_HERSHEY_DUPLEX, 1, (0,0,0), 2, cv.LINE_AA)\n",
    "img_rg = cv.putText(img_rg, dt_nascimento, (830,440), cv.FONT_HERSHEY_DUPLEX, 1, (0,0,0), 2, cv.LINE_AA)\n",
    "img_rg = cv.putText(img_rg, cpf, (160,600), cv.FONT_HERSHEY_DUPLEX, 1, (0,0,0), 2, cv.LINE_AA)"
   ]
  },
  {
   "cell_type": "code",
   "execution_count": 92,
   "id": "9dd07008",
   "metadata": {},
   "outputs": [],
   "source": [
    "cv.imshow('RG_FAKE',img_rg)\n",
    "cv.waitKey()\n",
    "cv.destroyAllWindows()"
   ]
  },
  {
   "cell_type": "code",
   "execution_count": 94,
   "id": "e874746c",
   "metadata": {},
   "outputs": [
    {
     "data": {
      "text/plain": [
       "True"
      ]
     },
     "execution_count": 94,
     "metadata": {},
     "output_type": "execute_result"
    }
   ],
   "source": [
    "cv.imwrite('RG_FAKE.jpg',img_rg)"
   ]
  },
  {
   "cell_type": "code",
   "execution_count": null,
   "id": "0dfd1003",
   "metadata": {},
   "outputs": [],
   "source": []
  }
 ],
 "metadata": {
  "kernelspec": {
   "display_name": "Python 3 (ipykernel)",
   "language": "python",
   "name": "python3"
  },
  "language_info": {
   "codemirror_mode": {
    "name": "ipython",
    "version": 3
   },
   "file_extension": ".py",
   "mimetype": "text/x-python",
   "name": "python",
   "nbconvert_exporter": "python",
   "pygments_lexer": "ipython3",
   "version": "3.9.6"
  }
 },
 "nbformat": 4,
 "nbformat_minor": 5
}
